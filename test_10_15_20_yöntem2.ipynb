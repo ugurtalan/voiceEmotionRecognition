{
 "cells": [
  {
   "cell_type": "code",
   "execution_count": 1,
   "id": "93e85d3d",
   "metadata": {},
   "outputs": [
    {
     "name": "stderr",
     "output_type": "stream",
     "text": [
      "WARNING:absl:Compiled the loaded model, but the compiled metrics have yet to be built. `model.compile_metrics` will be empty until you train or evaluate the model.\n"
     ]
    }
   ],
   "source": [
    "from tensorflow.keras.models import load_model\n",
    "\n",
    "import librosa\n",
    "import numpy as np\n",
    "\n",
    "model1 = load_model(\"model_with_CNN-kernel=(3,3).h5\")\n"
   ]
  },
  {
   "cell_type": "code",
   "execution_count": 2,
   "id": "e6303ccb",
   "metadata": {},
   "outputs": [],
   "source": [
    "def extract_mfcc(file_path):\n",
    "    y, sr = librosa.load(file_path, sr=16000)\n",
    "    y, _ = librosa.effects.trim(y)\n",
    "    y = librosa.util.normalize(y)\n",
    "    mfcc = librosa.feature.mfcc(y=y, sr=sr, n_mfcc=20)\n",
    "    \n",
    "    if mfcc.shape[1] >= 100:\n",
    "        mfcc = mfcc[:, :100]\n",
    "    else:\n",
    "        pad_width = 100 - mfcc.shape[1]\n",
    "        mfcc = np.pad(mfcc, ((0, 0), (0, pad_width)), mode='constant')\n",
    "\n",
    "    return mfcc\n"
   ]
  },
  {
   "cell_type": "code",
   "execution_count": 3,
   "id": "9d3866b9",
   "metadata": {},
   "outputs": [],
   "source": [
    "def extract_true_label(filename):\n",
    "    if '_' in filename:\n",
    "        emotion = filename.split('_')[2].split('.')[0].lower()\n",
    "        if emotion =='ps':\n",
    "             return 'surprised'\n",
    "        if emotion =='fearful':\n",
    "                return 'fear'\n",
    "        else:\n",
    "             return emotion\n",
    "    elif '-' in filename:\n",
    "        number = filename.split('-')[2]\n",
    "        emotion_map = {\n",
    "            '01': 'neutral', '02': 'calm', '03': 'happy', '04': 'sad',\n",
    "            '05': 'angry', '06': 'fear', '07': 'disgust', '08': 'surprised'\n",
    "        }\n",
    "        return emotion_map.get(number)"
   ]
  },
  {
   "cell_type": "code",
   "execution_count": 4,
   "id": "219a4fbb",
   "metadata": {},
   "outputs": [],
   "source": [
    "from sklearn.preprocessing import LabelEncoder\n",
    "\n",
    "\n",
    "def get_label_encoder():\n",
    "    duygular = [\n",
    "    'angry',\n",
    "    'calm',\n",
    "    'disgust',\n",
    "    'fear',\n",
    "    'happy',\n",
    "    'neutral',\n",
    "    'sad',\n",
    "    'surprised'\n",
    "]\n",
    "    encoder = LabelEncoder()\n",
    "    encoder.fit(duygular)\n",
    "    return encoder"
   ]
  },
  {
   "cell_type": "code",
   "execution_count": 9,
   "id": "36265708",
   "metadata": {},
   "outputs": [],
   "source": [
    "import os\n",
    "import numpy as np\n",
    "from sklearn.metrics import classification_report\n",
    "\n",
    "def predict_and_evaluate_cnnlstm(folder_path, model, label_encoder):\n",
    "    files = [f for f in os.listdir(folder_path) if f.endswith('.wav')]\n",
    "    X = []\n",
    "    y_true = []\n",
    "    for file in files:\n",
    "        file_path = os.path.join(folder_path, file)\n",
    "        label = extract_true_label(file)\n",
    "        mfcc = extract_mfcc(file_path)  \n",
    "        X.append(mfcc)\n",
    "        y_true.append(label)\n",
    "    X = np.array(X)\n",
    "    X = X[...,np.newaxis]\n",
    "    y_true_encoded = label_encoder.transform(y_true)\n",
    "    \n",
    "    print(X.shape)\n",
    "\n",
    "    y_pred_probs = model.predict(X)\n",
    "    \n",
    "    y_pred = np.argmax(y_pred_probs, axis=1)\n",
    "    y_true_encoded = np.array(y_true_encoded)  \n",
    "\n",
    "    labels = np.unique(y_true_encoded)\n",
    "    target_names = label_encoder.inverse_transform(labels)\n",
    "\n",
    "    print(\"İlk 10 Dosya\")\n",
    "    print(np.unique(y_pred))\n",
    "    print(label_encoder.classes_)\n",
    "    print(classification_report(y_true_encoded, y_pred, target_names=target_names))\n",
    "\n"
   ]
  },
  {
   "cell_type": "code",
   "execution_count": 10,
   "id": "2fe76f72",
   "metadata": {},
   "outputs": [
    {
     "name": "stdout",
     "output_type": "stream",
     "text": [
      "(20, 20, 100, 1)\n",
      "\u001b[1m1/1\u001b[0m \u001b[32m━━━━━━━━━━━━━━━━━━━━\u001b[0m\u001b[37m\u001b[0m \u001b[1m0s\u001b[0m 34ms/step\n",
      "İlk 10 Dosya\n",
      "[0 2 3 4 5 6 7]\n",
      "['angry' 'calm' 'disgust' 'fear' 'happy' 'neutral' 'sad' 'surprised']\n",
      "              precision    recall  f1-score   support\n",
      "\n",
      "       angry       1.00      1.00      1.00         6\n",
      "     disgust       1.00      1.00      1.00         4\n",
      "        fear       1.00      1.00      1.00         1\n",
      "       happy       1.00      1.00      1.00         1\n",
      "     neutral       1.00      1.00      1.00         2\n",
      "         sad       1.00      1.00      1.00         5\n",
      "   surprised       1.00      1.00      1.00         1\n",
      "\n",
      "    accuracy                           1.00        20\n",
      "   macro avg       1.00      1.00      1.00        20\n",
      "weighted avg       1.00      1.00      1.00        20\n",
      "\n"
     ]
    }
   ],
   "source": [
    "encoder = get_label_encoder()\n",
    "predict_and_evaluate_cnnlstm(\"ses/test_20\",model1,encoder)"
   ]
  }
 ],
 "metadata": {
  "kernelspec": {
   "display_name": ".venv (3.10.11)",
   "language": "python",
   "name": "python3"
  },
  "language_info": {
   "codemirror_mode": {
    "name": "ipython",
    "version": 3
   },
   "file_extension": ".py",
   "mimetype": "text/x-python",
   "name": "python",
   "nbconvert_exporter": "python",
   "pygments_lexer": "ipython3",
   "version": "3.10.11"
  }
 },
 "nbformat": 4,
 "nbformat_minor": 5
}
