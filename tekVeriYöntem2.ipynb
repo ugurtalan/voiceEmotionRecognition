{
 "cells": [
  {
   "cell_type": "code",
   "execution_count": null,
   "id": "5e77a9c8",
   "metadata": {},
   "outputs": [
    {
     "name": "stderr",
     "output_type": "stream",
     "text": [
      "WARNING:absl:Compiled the loaded model, but the compiled metrics have yet to be built. `model.compile_metrics` will be empty until you train or evaluate the model.\n"
     ]
    }
   ],
   "source": [
    "from joblib import load\n",
    "from tensorflow.keras.models import load_model\n",
    "\n",
    "model1 = load_model(\"model_with_two_dataset.h5\")  \n",
    "\n",
    "\n",
    "def extract_label_from_filename(path):\n",
    "    filename = os.path.basename(path)\n",
    "    \n",
    "    if '_' in filename:\n",
    "        emotion = filename.split('_')[2].split('.')[0].lower()\n",
    "        if emotion =='ps':\n",
    "             return 'surprised'\n",
    "        if emotion =='fearful':\n",
    "                return 'fear'\n",
    "        else:\n",
    "             return emotion\n",
    "    elif '-' in filename:\n",
    "        number = filename.split('-')[2]\n",
    "        emotion_map = {\n",
    "            '01': 'neutral', '02': 'calm', '03': 'happy', '04': 'sad',\n",
    "            '05': 'angry', '06': 'fear', '07': 'disgust', '08': 'surprised'\n",
    "        }\n",
    "        return emotion_map.get(number)"
   ]
  },
  {
   "cell_type": "code",
   "execution_count": 18,
   "id": "ba84ccd0",
   "metadata": {},
   "outputs": [],
   "source": [
    "import librosa\n",
    "import numpy as np\n",
    "\n",
    "def extract_mfcc(file_path):\n",
    "    y, sr = librosa.load(file_path, sr=16000)\n",
    "    y, _ = librosa.effects.trim(y)\n",
    "    y = librosa.util.normalize(y)\n",
    "\n",
    "    mfcc = librosa.feature.mfcc(y=y, sr=sr, n_mfcc=20)\n",
    "\n",
    "    if mfcc.shape[1] >= 100:\n",
    "        mfcc = mfcc[:, :100]\n",
    "    else:\n",
    "        pad_width = 100 - mfcc.shape[1]\n",
    "        mfcc = np.pad(mfcc, ((0, 0), (0, pad_width)), mode='constant')\n",
    "\n",
    "    return mfcc\n"
   ]
  },
  {
   "cell_type": "code",
   "execution_count": 19,
   "id": "a8ee54c3",
   "metadata": {},
   "outputs": [],
   "source": [
    "from sklearn.preprocessing import LabelEncoder\n",
    "\n",
    "\n",
    "def get_label_encoder():\n",
    "    duygular = [\n",
    "    'angry',\n",
    "    'calm',\n",
    "    'disgust',\n",
    "    'fear',\n",
    "    'happy',\n",
    "    'neutral',\n",
    "    'sad',\n",
    "    'surprised'\n",
    "]\n",
    "    encoder = LabelEncoder()\n",
    "    encoder.fit(duygular)\n",
    "    return encoder"
   ]
  },
  {
   "cell_type": "code",
   "execution_count": 20,
   "id": "ffb1ff9b",
   "metadata": {},
   "outputs": [],
   "source": [
    "def predict_single_audio(file_path, model, label_encoder):\n",
    "    true_label = extract_label_from_filename(file_path)\n",
    "    mfcc = extract_mfcc(file_path)\n",
    "\n",
    "    mfcc = mfcc[..., np.newaxis]  \n",
    "    mfcc = np.expand_dims(mfcc, axis=0)\n",
    "\n",
    "    prediction = model.predict(mfcc)\n",
    "    predicted_index = np.argmax(prediction)\n",
    "    predicted_label = label_encoder.inverse_transform([predicted_index])[0]\n",
    "\n",
    "    print(\"Dosya Adı:\", file_path)\n",
    "    print(\"Gerçek Etiket:\", true_label)\n",
    "    print(\"Model Tahmini:\", predicted_label)\n"
   ]
  },
  {
   "cell_type": "code",
   "execution_count": 21,
   "id": "df0893b0",
   "metadata": {},
   "outputs": [
    {
     "name": "stdout",
     "output_type": "stream",
     "text": [
      "\u001b[1m1/1\u001b[0m \u001b[32m━━━━━━━━━━━━━━━━━━━━\u001b[0m\u001b[37m\u001b[0m \u001b[1m0s\u001b[0m 495ms/step\n",
      "Dosya Adı: ses/ses_dosyalarim_tess/TESS Toronto emotional speech set data/OAF_angry/OAF_back_angry.wav\n",
      "Gerçek Etiket: tess/tess toronto emotional speech set data/oaf\n",
      "Model Tahmini: angry\n"
     ]
    }
   ],
   "source": [
    "encoder =get_label_encoder()\n",
    "predict_single_audio(\"ses/ses_dosyalarim_tess/TESS Toronto emotional speech set data/OAF_angry/OAF_back_angry.wav\", model1,encoder)\n"
   ]
  }
 ],
 "metadata": {
  "kernelspec": {
   "display_name": ".venv (3.10.11)",
   "language": "python",
   "name": "python3"
  },
  "language_info": {
   "codemirror_mode": {
    "name": "ipython",
    "version": 3
   },
   "file_extension": ".py",
   "mimetype": "text/x-python",
   "name": "python",
   "nbconvert_exporter": "python",
   "pygments_lexer": "ipython3",
   "version": "3.10.11"
  }
 },
 "nbformat": 4,
 "nbformat_minor": 5
}
