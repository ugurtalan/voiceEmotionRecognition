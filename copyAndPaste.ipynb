{
 "cells": [
  {
   "cell_type": "code",
   "execution_count": null,
   "id": "7f9fcbab",
   "metadata": {},
   "outputs": [
    {
     "name": "stdout",
     "output_type": "stream",
     "text": [
      "20 dosya başarıyla 'ses/test_20' klasörüne kopyalandı.\n"
     ]
    }
   ],
   "source": [
    "import os\n",
    "import shutil\n",
    "import random\n",
    "\n",
    "def copy_random_files(source_dirs, target_dir, n=10):\n",
    "    all_files = []\n",
    "\n",
    "    for source_dir in source_dirs:\n",
    "        for root, _, files in os.walk(source_dir):\n",
    "            wav_files = [os.path.join(root, f) for f in files if f.endswith('.wav')]\n",
    "            all_files.extend(wav_files)\n",
    "\n",
    "    selected_files = random.sample(all_files, n)\n",
    "\n",
    "    os.makedirs(target_dir, exist_ok=True)\n",
    "\n",
    "    for file_path in selected_files:\n",
    "        filename = os.path.basename(file_path)\n",
    "        destination = os.path.join(target_dir, filename)\n",
    "        shutil.copy(file_path, destination)\n",
    "\n",
    "    print(f\"{n} dosya başarıyla '{target_dir}' klasörüne kopyalandı.\")\n",
    "ravdess_path = \"ses/ses_dosyalarim_ravdes\"\n",
    "tess_path = \"ses/ses_dosyalarim_tess/TESS Toronto emotional speech set data\"\n",
    "hedef_klasor = \"ses/test_20\"\n",
    "copy_random_files([ravdess_path, tess_path], hedef_klasor, n=20)\n"
   ]
  }
 ],
 "metadata": {
  "kernelspec": {
   "display_name": ".venv (3.10.11)",
   "language": "python",
   "name": "python3"
  },
  "language_info": {
   "codemirror_mode": {
    "name": "ipython",
    "version": 3
   },
   "file_extension": ".py",
   "mimetype": "text/x-python",
   "name": "python",
   "nbconvert_exporter": "python",
   "pygments_lexer": "ipython3",
   "version": "3.10.11"
  }
 },
 "nbformat": 4,
 "nbformat_minor": 5
}
