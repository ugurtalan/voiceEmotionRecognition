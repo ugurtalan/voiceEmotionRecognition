{
 "cells": [
  {
   "cell_type": "code",
   "execution_count": null,
   "id": "7782d95d",
   "metadata": {},
   "outputs": [],
   "source": [
    "from joblib import load\n",
    "import librosa\n",
    "import numpy as np\n",
    "\n",
    "model = load(\"model0_with_best_params.joblib\")\n",
    "pca = load(\"pca_transform.joblib\")\n",
    "duygular = [\n",
    "    'angry',\n",
    "    'calm',\n",
    "    'disgust',\n",
    "    'fear',\n",
    "    'fearful',     \n",
    "    'happy',\n",
    "    'neutral',\n",
    "    'ps',          \n",
    "    'sad',\n",
    "    'surprised'\n",
    "]\n"
   ]
  },
  {
   "cell_type": "code",
   "execution_count": null,
   "id": "cfd445eb",
   "metadata": {},
   "outputs": [],
   "source": [
    "def extract_mfcc_from_file(file_path):\n",
    "    y, sr = librosa.load(file_path, sr=16000)\n",
    "    y, _ = librosa.effects.trim(y)\n",
    "    y = librosa.util.normalize(y)\n",
    "    mfcc = librosa.feature.mfcc(y=y, sr=sr, n_mfcc=20)\n",
    "    if mfcc.shape[1] >= 100:\n",
    "        mfcc = mfcc[:, :100]\n",
    "    else:\n",
    "        pad_width = 100 - mfcc.shape[1]\n",
    "        mfcc = np.pad(mfcc, ((0, 0), (0, pad_width)), mode='constant')\n",
    "    return mfcc\n"
   ]
  },
  {
   "cell_type": "code",
   "execution_count": null,
   "id": "51f3ecc7",
   "metadata": {},
   "outputs": [],
   "source": [
    "def extract_label_from_filename(filename):\n",
    "    emotion_map = {\n",
    "        '01': 'neutral',\n",
    "        '02': 'calm',\n",
    "        '03': 'happy',\n",
    "        '04': 'sad',\n",
    "        '05': 'angry',\n",
    "        '06': 'fearful',\n",
    "        '07': 'disgust',\n",
    "        '08': 'surprised'\n",
    "    }\n",
    "\n",
    "    filename = filename.lower()\n",
    "    if '-' in filename and filename.endswith('.wav'):\n",
    "        \n",
    "            parts = filename.split('-')\n",
    "            emotion_code = parts[2]\n",
    "            return emotion_map.get(emotion_code)\n",
    "       \n",
    "\n",
    "    for emotion in duygular:\n",
    "        if emotion in filename:\n",
    "            return emotion\n",
    "\n"
   ]
  },
  {
   "cell_type": "code",
   "execution_count": null,
   "id": "9abcbe17",
   "metadata": {},
   "outputs": [],
   "source": [
    "from sklearn.preprocessing import LabelEncoder\n",
    "\n",
    "\n",
    "def get_label_encoder():\n",
    "    duygular = [\n",
    "    'angry',\n",
    "    'calm',\n",
    "    'disgust',\n",
    "    'fear',\n",
    "    'fearful',     \n",
    "    'happy',\n",
    "    'neutral',\n",
    "    'ps',         \n",
    "    'sad',\n",
    "    'surprised'\n",
    "]\n",
    "    encoder = LabelEncoder()\n",
    "    encoder.fit(duygular)\n",
    "    return encoder"
   ]
  },
  {
   "cell_type": "code",
   "execution_count": null,
   "id": "62cbddc9",
   "metadata": {},
   "outputs": [],
   "source": [
    "def predict_single_file(file_path, model, pca, label_encoder):\n",
    "    true_label = extract_label_from_filename(file_path)\n",
    "    mfcc = extract_mfcc_from_file(file_path)\n",
    "    mfcc_reduced = pca.transform(mfcc.reshape(1, -1))  \n",
    "    y_pred = model.predict(mfcc_reduced)\n",
    "\n",
    "    print(\" Tek Ses Tahmini\")\n",
    "    print(\"Gerçek Etiket:\", true_label)\n",
    "    print(\"Model Tahmini:\", label_encoder.inverse_transform(y_pred)[0])\n"
   ]
  },
  {
   "cell_type": "code",
   "execution_count": 49,
   "id": "425cb09d",
   "metadata": {},
   "outputs": [
    {
     "name": "stdout",
     "output_type": "stream",
     "text": [
      " Tek Ses Tahmini\n",
      "Gerçek Etiket: disgust\n",
      "Model Tahmini: disgust\n"
     ]
    }
   ],
   "source": [
    "encoder=get_label_encoder()\n",
    "\n",
    "\n",
    "predict_single_file(\"ses/test_10/OAF_rat_disgust.wav\", model, pca, encoder)\n"
   ]
  }
 ],
 "metadata": {
  "kernelspec": {
   "display_name": ".venv (3.10.11)",
   "language": "python",
   "name": "python3"
  },
  "language_info": {
   "codemirror_mode": {
    "name": "ipython",
    "version": 3
   },
   "file_extension": ".py",
   "mimetype": "text/x-python",
   "name": "python",
   "nbconvert_exporter": "python",
   "pygments_lexer": "ipython3",
   "version": "3.10.11"
  }
 },
 "nbformat": 4,
 "nbformat_minor": 5
}
