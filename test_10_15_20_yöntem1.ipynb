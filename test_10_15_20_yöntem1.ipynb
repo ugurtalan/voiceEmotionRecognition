{
 "cells": [
  {
   "cell_type": "code",
   "execution_count": 95,
   "id": "7809e281",
   "metadata": {},
   "outputs": [],
   "source": [
    "from joblib import load\n",
    "import librosa\n",
    "import numpy as np\n",
    "\n",
    "model = load(\"model0_with_best_params.joblib\")\n",
    "pca = load(\"pca_transform.joblib\")\n"
   ]
  },
  {
   "cell_type": "code",
   "execution_count": 96,
   "id": "11ac70c3",
   "metadata": {},
   "outputs": [],
   "source": [
    "def extract_mfcc(file_path):\n",
    "    y, sr = librosa.load(file_path, sr=16000)\n",
    "    y, _ = librosa.effects.trim(y)\n",
    "    y = librosa.util.normalize(y)\n",
    "    mfcc = librosa.feature.mfcc(y=y, sr=sr, n_mfcc=20)\n",
    "\n",
    "    if mfcc.shape[1] >= 100:\n",
    "        mfcc = mfcc[:, :100]\n",
    "    else:\n",
    "        pad_width = 100 - mfcc.shape[1]\n",
    "        mfcc = np.pad(mfcc, ((0, 0), (0, pad_width)), mode='constant')\n",
    "\n",
    "    return mfcc\n"
   ]
  },
  {
   "cell_type": "code",
   "execution_count": null,
   "id": "26b2e8fc",
   "metadata": {},
   "outputs": [],
   "source": [
    "def extract_true_label(filename):\n",
    "    if '_' in filename:\n",
    "        emotion = filename.split('_')[2].split('.')[0].lower()\n",
    "        \n",
    "        return  emotion\n",
    "    elif '-' in filename:\n",
    "        code = filename.split('-')[2]\n",
    "        emotion_map = {\n",
    "            '01': 'neutral',\n",
    "            '02': 'calm',\n",
    "            '03': 'happy', \n",
    "            '04': 'sad',\n",
    "            '05': 'angry',\n",
    "            '06': 'fear',\n",
    "            '07': 'disgust',\n",
    "            '08': 'surprised'\n",
    "        }\n",
    "        return emotion_map.get(code)"
   ]
  },
  {
   "cell_type": "code",
   "execution_count": 98,
   "id": "116ccfae",
   "metadata": {},
   "outputs": [],
   "source": [
    "from sklearn.preprocessing import LabelEncoder\n",
    "\n",
    "\n",
    "def get_label_encoder():\n",
    "    duygular = [\n",
    "    'angry',\n",
    "    'calm',\n",
    "    'disgust',\n",
    "    'fear',\n",
    "    'fearful',     \n",
    "    'happy',\n",
    "    'neutral',\n",
    "    'ps',          \n",
    "    'sad',\n",
    "    'surprised'\n",
    "]\n",
    "    encoder = LabelEncoder()\n",
    "    encoder.fit(duygular)\n",
    "    return encoder"
   ]
  },
  {
   "cell_type": "code",
   "execution_count": 101,
   "id": "5024db17",
   "metadata": {},
   "outputs": [],
   "source": [
    "import os\n",
    "from sklearn.metrics import classification_report\n",
    "\n",
    "\n",
    "def predict_and_evaluate_mlp(folder_path, model, pca, label_encoder):\n",
    "    files = [f for f in os.listdir(folder_path) if f.endswith('.wav')]\n",
    "\n",
    "    X = []\n",
    "    y_true = []\n",
    "\n",
    "    for file in files:\n",
    "        file_path = os.path.join(folder_path, file)\n",
    "        label = extract_true_label(file)\n",
    "\n",
    "        mfcc = extract_mfcc(file_path)\n",
    "        X_flat = mfcc.reshape(1, -1)\n",
    "        X_reduced = pca.transform(X_flat) \n",
    "\n",
    "        X.append(X_reduced[0])\n",
    "        y_true.append(label)\n",
    "\n",
    "\n",
    "    X = np.array(X)\n",
    "    y_true_encoded = label_encoder.transform(y_true)\n",
    "    y_pred = model.predict(X)\n",
    "\n",
    "    labels = np.unique(y_true_encoded)\n",
    "    target_names = label_encoder.inverse_transform(labels)\n",
    "    print(y_true_encoded)\n",
    "    print(y_pred)\n",
    "    print(np.unique(y_pred))\n",
    "    print(label_encoder.classes_)\n",
    "    print(\"İlk 10 Dosya İçin:\")\n",
    "    print(classification_report(y_true_encoded, y_pred, target_names=target_names))\n"
   ]
  },
  {
   "cell_type": "code",
   "execution_count": 102,
   "id": "babddf1a",
   "metadata": {},
   "outputs": [
    {
     "name": "stdout",
     "output_type": "stream",
     "text": [
      "[1 8 9 3 2 2 7 8 2 6]\n",
      "[1 8 9 3 2 2 7 8 2 6]\n",
      "[1 2 3 6 7 8 9]\n",
      "['angry' 'calm' 'disgust' 'fear' 'fearful' 'happy' 'neutral' 'ps' 'sad'\n",
      " 'surprised']\n",
      "İlk 10 Dosya İçin:\n",
      "              precision    recall  f1-score   support\n",
      "\n",
      "        calm       1.00      1.00      1.00         1\n",
      "     disgust       1.00      1.00      1.00         3\n",
      "        fear       1.00      1.00      1.00         1\n",
      "     neutral       1.00      1.00      1.00         1\n",
      "          ps       1.00      1.00      1.00         1\n",
      "         sad       1.00      1.00      1.00         2\n",
      "   surprised       1.00      1.00      1.00         1\n",
      "\n",
      "    accuracy                           1.00        10\n",
      "   macro avg       1.00      1.00      1.00        10\n",
      "weighted avg       1.00      1.00      1.00        10\n",
      "\n"
     ]
    }
   ],
   "source": [
    "encoder = get_label_encoder()\n",
    "predict_and_evaluate_mlp(\"ses/test_10\",model,pca,encoder)"
   ]
  }
 ],
 "metadata": {
  "kernelspec": {
   "display_name": ".venv (3.10.11)",
   "language": "python",
   "name": "python3"
  },
  "language_info": {
   "codemirror_mode": {
    "name": "ipython",
    "version": 3
   },
   "file_extension": ".py",
   "mimetype": "text/x-python",
   "name": "python",
   "nbconvert_exporter": "python",
   "pygments_lexer": "ipython3",
   "version": "3.10.11"
  }
 },
 "nbformat": 4,
 "nbformat_minor": 5
}
